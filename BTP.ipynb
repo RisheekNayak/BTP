{
  "nbformat": 4,
  "nbformat_minor": 0,
  "metadata": {
    "colab": {
      "provenance": []
    },
    "kernelspec": {
      "name": "python3",
      "display_name": "Python 3"
    },
    "language_info": {
      "name": "python"
    }
  },
  "cells": [
    {
      "cell_type": "code",
      "source": [
        "initialDeclaration = []\n",
        "allOutputs = []"
      ],
      "metadata": {
        "id": "vXs3iVk_YzAk"
      },
      "execution_count": 71,
      "outputs": []
    },
    {
      "cell_type": "code",
      "execution_count": 72,
      "metadata": {
        "id": "XuJYhYBNFheM"
      },
      "outputs": [],
      "source": [
        "def solve(layer, previousOutput, index, Adder = False, prev_non_linear = None):\n",
        "  newOutput = output_var[layer] + \"_\" + str(index)\n",
        "\n",
        "  if layer not in code: # Layer name's verilog not available, this condition shouldnt execute.\n",
        "    print(layer, \" not found\")\n",
        "    return []\n",
        "\n",
        "  toAdd = [] # This is used for initial declaration.\n",
        "  path = code[layer]\n",
        "  changedCode = []\n",
        "\n",
        "  # This is only for the adder\n",
        "  mapping = {\"vector_a\" : previousOutput}\n",
        "  if (prev_non_linear):\n",
        "    lastChr = \"bcdefghij\"\n",
        "    for i in range(len(prev_non_linear)):\n",
        "      key = \"vector_\" + lastChr[i]\n",
        "      mapping[key] = prev_non_linear[i]\n",
        "\n",
        "  with open(path, 'r') as file:\n",
        "    for line in file:\n",
        "      curLine = line\n",
        "      if \"endmodule\" not in curLine and \"module\" in curLine:\n",
        "        tempLine = \"\"\n",
        "        for ch in curLine:\n",
        "          if (ch == '('):\n",
        "            break\n",
        "          tempLine = tempLine + ch\n",
        "\n",
        "        tempLine = tempLine + \"_\" + str(index)\n",
        "        toAdd.append(tempLine[7:]) # Add everything after module\" \".\n",
        "        curLine = tempLine + \"(\\n\"\n",
        "\n",
        "      if (output_var[layer] in curLine):\n",
        "          curLine = curLine.replace(output_var[layer],newOutput)\n",
        "\n",
        "      if (Adder == False):\n",
        "        if(input_var[layer] in curLine and previousOutput != \"None\"):\n",
        "            curLine = curLine.replace(input_var[layer],previousOutput)\n",
        "      else:\n",
        "          if \"vector_\" in curLine and \"result_vector\" not in curLine:\n",
        "            check = False\n",
        "            for key, value in mapping.items():\n",
        "              if (key in curLine):\n",
        "                curLine = curLine.replace(key,value)\n",
        "                check = True\n",
        "\n",
        "            if (check == False):\n",
        "              curLine = \"//\" + curLine\n",
        "\n",
        "      changedCode.append(curLine)\n",
        "\n",
        "  if (previousOutput != \"None\"):\n",
        "    toAdd.append(previousOutput)\n",
        "  else:\n",
        "    toAdd.append(input_var[layer])\n",
        "\n",
        "  if (Adder):\n",
        "    for adding in prev_non_linear:\n",
        "      toAdd.append(adding)\n",
        "\n",
        "  toAdd.append(newOutput)\n",
        "\n",
        "  initialDeclaration.append(toAdd)\n",
        "\n",
        "  allOutputs.append(newOutput)\n",
        "\n",
        "  return changedCode"
      ]
    },
    {
      "cell_type": "code",
      "source": [
        "code = {}\n",
        "code[\"Conv\"] = \"/content/3x3 Conv.txt\"\n",
        "code[\"Relu\"] = \"/content/ReLu.txt\"\n",
        "code[\"FC\"] = \"/content/FC.txt\"\n",
        "code[\"Maxpool\"] = \"/content/maxpooling.txt\"\n",
        "code[\"Softmax\"] = \"/content/softmax.txt\"\n",
        "code[\"Adder\"] = \"/content/Adder.txt\""
      ],
      "metadata": {
        "id": "wO7Z464EGX6W"
      },
      "execution_count": 73,
      "outputs": []
    },
    {
      "cell_type": "code",
      "source": [
        "input_var = {}\n",
        "input_var[\"Conv\"] = \"input_data\"\n",
        "input_var[\"Relu\"] = \"din_relu\"\n",
        "input_var[\"FC\"] = \"input_data\"\n",
        "input_var[\"Maxpool\"] = \"in_data\"\n",
        "input_var[\"Softmax\"] = \"Datain\"\n",
        "input_var[\"Adder\"] = \"\"\n",
        "\n",
        "output_var = {}\n",
        "output_var[\"Conv\"] = \"output_data\"\n",
        "output_var[\"Relu\"] = \"dout_relu\"\n",
        "output_var[\"FC\"] = \"output_data\"\n",
        "output_var[\"Maxpool\"] = \"out_data\"\n",
        "output_var[\"Softmax\"] = \"Dataout\"\n",
        "output_var[\"Adder\"] = \"result_vector\""
      ],
      "metadata": {
        "id": "vYxU3iYEGdDK"
      },
      "execution_count": 74,
      "outputs": []
    },
    {
      "cell_type": "code",
      "source": [
        "params = {\"vgg16\" : {\"parameter WIDTH\" : [1, 1, 1, 1, 1, 1, 1, 1, 1, 1, 1, 1, 1],\n",
        "                     \"parameter HEIGHT\" : [1, 1, 1, 1, 1, 1, 1, 1, 1, 1, 1, 1, 1],\n",
        "                     \"parameter CHANNELS\" : [3, 32, 32, 64, 64, 128, 128, 128, 256, 256, 256, 256, 256],\n",
        "                     \"parameter FILTERS\" : [32, 32, 64, 64, 128, 128, 128, 256, 256, 256, 256, 256, 256],\n",
        "                     \"parameter KERNEL_SIZE\" : [3, 3, 3, 3, 3, 3, 3, 3, 3, 3, 3, 3, 3],\n",
        "                     \"parameter STRIDE\": [1, 1, 1, 1, 1, 1, 1, 1, 1, 1, 1, 1, 1],\n",
        "                     \"parameter PADDING\" : [1, 1, 1, 1, 1, 1, 1, 1, 1, 1, 1, 1, 1]},\n",
        "          \"alexnet\" : {\"parameter WIDTH\" : [227, 27, 13, 13, 13],\n",
        "                       \"parameter HEIGHT\" : [227, 27, 13, 13, 13],\n",
        "                       \"parameter CHANNELS\" : [3, 96, 256, 384, 384],\n",
        "                       \"parameter FILTERS\" : [96, 256, 384, 384, 256],\n",
        "                       \"parameter KERNEL_SIZE\" : [11, 5, 3, 3, 3],\n",
        "                       \"parameter STRIDE\" : [4, 1, 1, 1, 1],\n",
        "                       \"parameter PADDING\" : [0, 2, 1, 1, 1]},\n",
        "          \"resnet\" : {\"parameter WIDTH\" : [227, 56, 56, 56, 56, 56, 28, 28, 28, 28, 14, 14, 14, 14, 7, 7, 7],\n",
        "                      \"parameter HEIGHT\": [227, 56, 56, 56, 56, 56, 28, 28, 28, 28, 14, 14, 14, 14, 7, 7, 7],\n",
        "                      \"parameter CHANNELS\" : [3, 64, 64, 64, 64, 64, 128, 128, 128, 128, 256, 256, 256, 256, 512, 512, 512],\n",
        "                      \"parameter FILTERS\" : [64, 64, 64, 64, 64, 128, 128, 128, 128, 256, 256, 256, 256, 512, 512, 512, 512],\n",
        "                      \"parameter KERNEL_SIZE\": [7, 3, 3, 3, 3, 3, 3, 3, 3, 3, 3, 3, 3, 3, 3, 3, 3],\n",
        "                      \"parameter STRIDE\" : [2, 1, 1, 1, 1, 2, 1, 1, 1, 2, 1, 1, 1, 2, 1, 1, 1],\n",
        "                      \"parameter PADDING\" : [3, 1, 1, 1, 1, 1, 1, 1, 1, 1, 1, 1, 1, 1, 1, 1, 1]},\n",
        "          \"squeezenet\" : {\"parameter WIDTH\" : [224, 55 ,55 ,55 ,55 ,55 ,55 ,55 ,55 ,55 ,55 ,55 ,55 ,55 ,55 ,55 ,55 ,55 ,55 ,55 ,55 ,55 ,55 ,55 ,55 ,55 ,55 ,55 ,55 ,55 ,55 ,55 ,55 ,55 ,55 ,55 ,55, 27 ,27 ,27 ,27 ,27 ,27 ,27 ,27 ,27 ,27 ,27 ,27 ,27 ,27 ,27 ,27 ,27 ,27 ,27 ,27 ,27 ,27 ,27 ,27 ,27 ,27 ,27 ,27 ,27 ,27 ,27 ,27 ,27 ,27 ,27 ,27 ,27 ,27 ,27 ,27 ,27 ,27 ,27 ,27 ,27 ,27 ,27 ,27, 13 ,13 ,13 ,13 ,13 ,13 ,13 ,13 ,13 ,13 ,13 ,13 , 13],\n",
        "                          \"parameter HEIGHT\": [224, 55 ,55 ,55 ,55 ,55 ,55 ,55 ,55 ,55 ,55 ,55 ,55 ,55 ,55 ,55 ,55 ,55 ,55 ,55 ,55 ,55 ,55 ,55 ,55 ,55 ,55 ,55 ,55 ,55 ,55 ,55 ,55 ,55 ,55 ,55 ,55, 27 ,27 ,27 ,27 ,27 ,27 ,27 ,27 ,27 ,27 ,27 ,27 ,27 ,27 ,27 ,27 ,27 ,27 ,27 ,27 ,27 ,27 ,27 ,27 ,27 ,27 ,27 ,27 ,27 ,27 ,27 ,27 ,27 ,27 ,27 ,27 ,27 ,27 ,27 ,27 ,27 ,27 ,27 ,27 ,27 ,27 ,27 ,27, 13 ,13 ,13 ,13 ,13 ,13 ,13 ,13 ,13 ,13 ,13 ,13 , 13],\n",
        "                          \"parameter CHANNELS\" : [3, 96 ,96 ,96 ,96 ,96 ,96 ,96 ,96 ,96 ,96 ,96 ,96, 128 ,128 ,128 ,128 ,128 ,128 ,128 ,128 ,128 ,128 ,128 ,128 ,128 ,128 ,128 ,128 ,128 ,128 ,128 ,128 ,128 ,128 ,128 ,128, 256 ,256 ,256 ,256 ,256 ,256 ,256 ,256 ,256 ,256 ,256 ,256 ,256 ,256 ,256 ,256 ,256 ,256 ,256 ,256 ,256 ,256 ,256 ,256 , 384 ,384 ,384 ,384 ,384 ,384 ,384 ,384 ,384 ,384 ,384 ,384 ,384 ,384 ,384 ,384 ,384 ,384 ,384 ,384 ,384 ,384 ,384 ,384 ,512 ,512 ,512 ,512 ,512 ,512 ,512 ,512 ,512 ,512 ,512 ,512 ,512],\n",
        "                          \"parameter FILTERS\" : [96 ,96 ,96 ,96 ,96 ,96 ,96 ,96 ,96 ,96 ,96 ,96, 128 ,128 ,128 ,128 ,128 ,128 ,128 ,128 ,128 ,128 ,128 ,128 ,128 ,128 ,128 ,128 ,128 ,128 ,128 ,128 ,128 ,128 ,128 ,128, 256 ,256 ,256 ,256 ,256 ,256 ,256 ,256 ,256 ,256 ,256 ,256 ,256 ,256 ,256 ,256 ,256 ,256 ,256 ,256 ,256 ,256 ,256 ,256 , 384 ,384 ,384 ,384 ,384 ,384 ,384 ,384 ,384 ,384 ,384 ,384 ,384 ,384 ,384 ,384 ,384 ,384 ,384 ,384 ,384 ,384 ,384 ,384 ,512 ,512 ,512 ,512 ,512 ,512 ,512 ,512 ,512 ,512 ,512 ,512 ,512, 1000],\n",
        "                          \"parameter KERNEL_SIZE\": [7, 1, 1, 1, 1, 1, 1, 1, 1, 3, 3, 3, 3, 1, 1, 1, 1, 1, 1, 1, 1, 3, 3, 3, 3, 1, 1, 1, 1, 1, 1, 1, 1, 3, 3, 3, 3, 1, 1, 1, 1, 1, 1, 1, 1, 3, 3, 3, 3, 1, 1, 1, 1, 1, 1, 1, 1, 3, 3, 3, 3, 1, 1, 1, 1, 1, 1, 1, 1, 3, 3, 3, 3, 1, 1, 1, 1, 1, 1, 1, 1, 3, 3, 3, 3, 1, 1, 1, 1, 1, 1, 1, 1, 3, 3, 3, 3, 1],\n",
        "                          \"parameter STRIDE\" : [2, 1, 1 ,1 ,1 ,1 ,1 ,1 ,1 ,1 ,1 ,1 ,1 ,1 ,1 ,1 ,1 ,1 ,1 ,1 ,1 ,1 ,1 ,1 ,1 ,1 ,1 ,1 ,1 ,1 ,1 ,1 ,1 ,1 ,1 ,1 ,1 ,1 ,1 ,1 ,1 ,1 ,1 ,1 ,1 ,1 ,1 ,1 ,1 ,1 ,1 ,1 ,1 ,1 ,1 ,1 ,1 ,1 ,1 ,1 ,1 ,1 ,1 ,1 ,1 ,1 ,1 ,1 ,1 ,1 ,1 ,1 ,1 ,1 ,1 ,1 ,1 ,1 ,1 ,1 ,1 ,1 ,1 ,1 ,1 ,1 ,1 ,1 ,1 ,1 ,1 ,1 ,1 ,1 ,1 ,1 ,1 ,1],\n",
        "                          \"parameter PADDING\" : [0 for i in range(98)]}\n",
        "          }"
      ],
      "metadata": {
        "id": "SR1b6zEyM_Ka"
      },
      "execution_count": 75,
      "outputs": []
    },
    {
      "cell_type": "code",
      "source": [
        "params_index = {\"vgg16\" : {\"parameter WIDTH\" : 0,\n",
        "                           \"parameter HEIGHT\" : 0,\n",
        "                           \"parameter CHANNELS\" : 0,\n",
        "                           \"parameter FILTERS\" : 0,\n",
        "                           \"parameter KERNEL_SIZE\" : 0,\n",
        "                           \"parameter STRIDE\" : 0,\n",
        "                           \"parameter PADDING\" : 0},\n",
        "                \"alexnet\" : {\"parameter WIDTH\" : 0,\n",
        "                           \"parameter HEIGHT\" : 0,\n",
        "                           \"parameter CHANNELS\" : 0,\n",
        "                           \"parameter FILTERS\" : 0,\n",
        "                           \"parameter KERNEL_SIZE\" : 0,\n",
        "                           \"parameter STRIDE\" : 0,\n",
        "                           \"parameter PADDING\" : 0},\n",
        "                \"resnet\" : {\"parameter WIDTH\" : 0,\n",
        "                           \"parameter HEIGHT\" : 0,\n",
        "                           \"parameter CHANNELS\" : 0,\n",
        "                           \"parameter FILTERS\" : 0,\n",
        "                           \"parameter KERNEL_SIZE\" : 0,\n",
        "                           \"parameter STRIDE\" : 0,\n",
        "                           \"parameter PADDING\" : 0},\n",
        "                \"squeezenet\" : {\"parameter WIDTH\" : 0,\n",
        "                                \"parameter HEIGHT\" : 0,\n",
        "                                \"parameter CHANNELS\" : 0,\n",
        "                                \"parameter FILTERS\" : 0,\n",
        "                                \"parameter KERNEL_SIZE\" : 0,\n",
        "                                \"parameter STRIDE\" : 0,\n",
        "                                \"parameter PADDING\" : 0}\n",
        "                }\n",
        "temp = 0"
      ],
      "metadata": {
        "id": "uzGMyJAjGgcy"
      },
      "execution_count": 76,
      "outputs": []
    },
    {
      "cell_type": "code",
      "source": [
        "def change(lines, model): # Parameters change\n",
        "   newCode = []\n",
        "   for j in range(len(lines)):\n",
        "    paramFound = False\n",
        "    for key in params[model]:\n",
        "       value = params[model][key]\n",
        "       if(key in lines[j]):\n",
        "          paramFound = True\n",
        "          s = ''\n",
        "          for k in range(len(lines[j])):\n",
        "            s+=lines[j][k]\n",
        "            if(lines[j][k] == \"=\"):\n",
        "              s += \" \"\n",
        "              index = params_index[model][key]\n",
        "              s+=str(value[index])\n",
        "              s += \";\\n\"\n",
        "              params_index[model][key] = index + 1\n",
        "              break\n",
        "          newCode.append(s)\n",
        "    if (paramFound == False):\n",
        "      newCode.append(lines[j])\n",
        "   return newCode"
      ],
      "metadata": {
        "id": "4TqTYfOCNsaj"
      },
      "execution_count": 77,
      "outputs": []
    },
    {
      "cell_type": "code",
      "source": [
        "finalCode = []"
      ],
      "metadata": {
        "id": "NaZ-qEGRH0lF"
      },
      "execution_count": 78,
      "outputs": []
    },
    {
      "cell_type": "code",
      "source": [
        "skip = True\n",
        "previousOutput = \"None\"\n",
        "idx_module = 1\n",
        "model = \"resnet\"\n",
        "modelPath = model + \".txt\"\n",
        "\n",
        "with open(modelPath, 'r') as file:\n",
        "\n",
        "    for line in file:\n",
        "      line = line.strip()\n",
        "      if (len(line) == 0 or skip):\n",
        "        skip = False\n",
        "        continue\n",
        "\n",
        "      words = []\n",
        "      curWord = \"\"\n",
        "      for chr in line:\n",
        "        if (chr == \",\"):\n",
        "          words.append(curWord)\n",
        "          curWord = \"\"\n",
        "        else:\n",
        "          curWord = curWord + chr\n",
        "\n",
        "      inputsCount = int(words[0])\n",
        "      idx = 1\n",
        "      inputs = []\n",
        "      while (inputsCount):\n",
        "        inputsCount = inputsCount - 1\n",
        "        if (words[idx] != \"None\"):\n",
        "          inputs.append(allOutputs[int(words[idx])])\n",
        "        else:\n",
        "          inputs.append(\"None\")\n",
        "        idx = idx + 1\n",
        "\n",
        "      layer = words[idx]\n",
        "\n",
        "      previousOutput = inputs[0] # Make sure in the text file, first num is the previous output\n",
        "      inputs = inputs[1:]\n",
        "\n",
        "      if layer == \"Adder\":\n",
        "        lines = solve(layer, previousOutput, idx_module, True, inputs)\n",
        "      else:\n",
        "        lines = solve(layer, previousOutput, idx_module)\n",
        "\n",
        "      idx_module = idx_module + 1\n",
        "\n",
        "      if (layer == \"Conv\"): ## Check\n",
        "        lines = change(lines, model)\n",
        "\n",
        "      finalCode.append(lines)"
      ],
      "metadata": {
        "id": "wOqSpGBZENG9"
      },
      "execution_count": 79,
      "outputs": []
    },
    {
      "cell_type": "code",
      "source": [
        "first = \"module top(input inp, input clk, input rst, output out);\\n\"\n",
        "space = \"    \"\n",
        "second = space + \"wire output_data;\\n\"\n",
        "third = space + \"wire dout_relu;\\n\"\n",
        "fourth = space + \"wire Start;\\n\"\n",
        "fifth = space + \"wire [2:0] N;\\n\""
      ],
      "metadata": {
        "id": "53AUCULMOplf"
      },
      "execution_count": 80,
      "outputs": []
    },
    {
      "cell_type": "code",
      "source": [
        "output_file = model + \"_output_file.txt\""
      ],
      "metadata": {
        "id": "DFdzhQfPBUCj"
      },
      "execution_count": 81,
      "outputs": []
    },
    {
      "cell_type": "code",
      "source": [
        "with open(output_file, 'w') as output_file:\n",
        "  output_file.write(first)\n",
        "  output_file.write(second)\n",
        "  output_file.write(third)\n",
        "  output_file.write(fourth)\n",
        "  output_file.write(fifth)\n",
        "\n",
        "  for i in range(len(initialDeclaration)):\n",
        "    string = initialDeclaration[i][0] + \" uut\"\n",
        "    if (i):\n",
        "      string = string + str(i)\n",
        "\n",
        "    layer = initialDeclaration[i][0][:4]\n",
        "\n",
        "    if (layer == \"vect\"): # Adder module name - vector_addition\n",
        "      declarations = \"(\"\n",
        "      for j in range(1, len(initialDeclaration[i]) - 1):\n",
        "        declarations = declarations + \".input_data\" + str(j) + \"(\" + initialDeclaration[i][j] + \"), \"\n",
        "      string = space + string + declarations + \".output_data(\" + initialDeclaration[i][-1] + \"));\\n\"\n",
        "    else:\n",
        "      if (layer == \"Conv\"):\n",
        "        string = string + \"(.clk(clk),.rst(rst),.input_data(\"\n",
        "      else:\n",
        "        string = string + \"(.input_data(\"\n",
        "\n",
        "      string = space + string + initialDeclaration[i][1] + \"), .output_data(\" + initialDeclaration[i][2] + \"));\\n\"\n",
        "\n",
        "    output_file.write(string)\n",
        "\n",
        "  output_file.write(\"endmodule\\n\")\n",
        "\n",
        "  for i in finalCode:\n",
        "    for j in i:\n",
        "      output_file.write(j)"
      ],
      "metadata": {
        "id": "t2fEPcvxLwc9"
      },
      "execution_count": 82,
      "outputs": []
    },
    {
      "cell_type": "code",
      "source": [
        "for i in initialDeclaration:\n",
        "  print(i)"
      ],
      "metadata": {
        "id": "6wgAvW-3frZM",
        "colab": {
          "base_uri": "https://localhost:8080/"
        },
        "outputId": "5fa9d2e8-3c93-47a1-f031-1fb1e6231f76"
      },
      "execution_count": 83,
      "outputs": [
        {
          "output_type": "stream",
          "name": "stdout",
          "text": [
            "['Conv2D_1', 'input_data', 'output_data_1']\n",
            "['maxpool_2', 'output_data_1', 'out_data_2']\n",
            "['Conv2D_3', 'out_data_2', 'output_data_3']\n",
            "['relu_4', 'output_data_3', 'dout_relu_4']\n",
            "['vectorAdder_5', 'dout_relu_4', 'out_data_2', 'result_vector_5']\n",
            "['Conv2D_6', 'result_vector_5', 'output_data_6']\n",
            "['relu_7', 'output_data_6', 'dout_relu_7']\n",
            "['Conv2D_8', 'dout_relu_7', 'output_data_8']\n",
            "['relu_9', 'output_data_8', 'dout_relu_9']\n",
            "['vectorAdder_10', 'dout_relu_9', 'result_vector_5', 'result_vector_10']\n",
            "['Conv2D_11', 'result_vector_10', 'output_data_11']\n",
            "['relu_12', 'output_data_11', 'dout_relu_12']\n",
            "['Conv2D_13', 'dout_relu_12', 'output_data_13']\n",
            "['relu_14', 'output_data_13', 'dout_relu_14']\n",
            "['vectorAdder_15', 'dout_relu_14', 'result_vector_10', 'result_vector_15']\n",
            "['Conv2D_16', 'result_vector_15', 'output_data_16']\n",
            "['relu_17', 'output_data_16', 'dout_relu_17']\n",
            "['Conv2D_18', 'dout_relu_17', 'output_data_18']\n",
            "['relu_19', 'output_data_18', 'dout_relu_19']\n",
            "['vectorAdder_20', 'dout_relu_19', 'result_vector_15', 'result_vector_20']\n",
            "['Conv2D_21', 'result_vector_20', 'output_data_21']\n",
            "['relu_22', 'output_data_21', 'dout_relu_22']\n",
            "['Conv2D_23', 'dout_relu_22', 'output_data_23']\n",
            "['relu_24', 'output_data_23', 'dout_relu_24']\n",
            "['vectorAdder_25', 'dout_relu_24', 'result_vector_20', 'result_vector_25']\n",
            "['Conv2D_26', 'result_vector_25', 'output_data_26']\n",
            "['relu_27', 'output_data_26', 'dout_relu_27']\n",
            "['Conv2D_28', 'dout_relu_27', 'output_data_28']\n",
            "['relu_29', 'output_data_28', 'dout_relu_29']\n",
            "['vectorAdder_30', 'dout_relu_29', 'result_vector_25', 'result_vector_30']\n",
            "['Conv2D_31', 'result_vector_30', 'output_data_31']\n",
            "['relu_32', 'output_data_31', 'dout_relu_32']\n",
            "['Conv2D_33', 'dout_relu_32', 'output_data_33']\n",
            "['relu_34', 'output_data_33', 'dout_relu_34']\n",
            "['vectorAdder_35', 'dout_relu_34', 'result_vector_30', 'result_vector_35']\n",
            "['Conv2D_36', 'result_vector_35', 'output_data_36']\n",
            "['relu_37', 'output_data_36', 'dout_relu_37']\n",
            "['Conv2D_38', 'dout_relu_37', 'output_data_38']\n",
            "['vectorAdder_39', 'output_data_38', 'result_vector_35', 'result_vector_39']\n",
            "['maxpool_40', 'result_vector_39', 'out_data_40']\n",
            "['FullyConnectedLayer_41', 'out_data_40', 'output_data_41']\n",
            "['softmax_42', 'output_data_41', 'Dataout_42']\n"
          ]
        }
      ]
    }
  ]
}