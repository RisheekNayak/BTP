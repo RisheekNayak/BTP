{
  "nbformat": 4,
  "nbformat_minor": 0,
  "metadata": {
    "colab": {
      "provenance": []
    },
    "kernelspec": {
      "name": "python3",
      "display_name": "Python 3"
    },
    "language_info": {
      "name": "python"
    }
  },
  "cells": [
    {
      "cell_type": "code",
      "source": [
        "initialDeclaration = []"
      ],
      "metadata": {
        "id": "vXs3iVk_YzAk"
      },
      "execution_count": null,
      "outputs": []
    },
    {
      "cell_type": "code",
      "execution_count": null,
      "metadata": {
        "id": "XuJYhYBNFheM"
      },
      "outputs": [],
      "source": [
        "def solve(layer, previousOutput, index, Adder = False, prev_non_linear = None):\n",
        "  changed = False\n",
        "  newOutput = output_var[layer] + \"_\" + str(index)\n",
        "\n",
        "  if layer not in code: # Layer name's verilog not available, this condition shouldnt execute.\n",
        "    print(layer, \" not found\")\n",
        "    return []\n",
        "\n",
        "  toAdd = [] # This is used for initial declaration.\n",
        "  path = code[layer]\n",
        "  changedCode = []\n",
        "  with open(path, 'r') as file:\n",
        "    for line in file:\n",
        "      curLine = line\n",
        "      if \"endmodule\" not in curLine and \"module\" in curLine:\n",
        "        tempLine = \"\"\n",
        "        for ch in curLine:\n",
        "          if (ch == '('):\n",
        "            break\n",
        "          tempLine = tempLine + ch\n",
        "\n",
        "        tempLine = tempLine + \"_\" + str(index)\n",
        "        toAdd.append(tempLine[7:])\n",
        "        curLine = tempLine + \"(\\n\"\n",
        "\n",
        "      if (output_var[layer] in curLine):\n",
        "          curLine = curLine.replace(output_var[layer],newOutput)\n",
        "\n",
        "      if (Adder == False):\n",
        "        if(input_var[layer] in curLine and previousOutput != \"None\"):\n",
        "            curLine = curLine.replace(input_var[layer],previousOutput)\n",
        "      else:\n",
        "        if (\"vector_a\" in curLine):\n",
        "          curLine = curLine.replace(\"vector_a\", previousOutput)\n",
        "        if (\"vector_b\" in curLine):\n",
        "          curLine = curLine.replace(\"vector_b\", prev_non_linear)\n",
        "\n",
        "      changedCode.append(curLine)\n",
        "\n",
        "  if (previousOutput != \"None\"):\n",
        "    toAdd.append(previousOutput)\n",
        "  else:\n",
        "    toAdd.append(input_var[layer])\n",
        "\n",
        "  if (Adder):\n",
        "    toAdd.append(prev_non_linear)\n",
        "\n",
        "  toAdd.append(newOutput)\n",
        "\n",
        "  initialDeclaration.append(toAdd)\n",
        "  return changedCode, newOutput"
      ]
    },
    {
      "cell_type": "code",
      "source": [
        "code = {}\n",
        "code[\"Conv\"] = \"/content/3x3 Conv.txt\"\n",
        "code[\"Relu\"] = \"/content/ReLu.txt\"\n",
        "code[\"fc\"] = \"/content/FC.txt\"\n",
        "code[\"pool\"] = \"/content/maxpooling.txt\"\n",
        "code[\"SoftMax\"] = \"/content/softmax.txt\"\n",
        "code[\"Adder\"] = \"/content/Adder.txt\""
      ],
      "metadata": {
        "id": "wO7Z464EGX6W"
      },
      "execution_count": null,
      "outputs": []
    },
    {
      "cell_type": "code",
      "source": [
        "input_var = {}\n",
        "input_var[\"Relu\"] = \"din_relu\"\n",
        "input_var[\"fc\"] = \"input_data\"\n",
        "input_var[\"Conv\"] = \"input_data\"\n",
        "input_var[\"Resnet\"] = \"data_in\"\n",
        "input_var[\"sigmoid\"] = \"x\"\n",
        "input_var[\"tanH\"] = \"phase\"\n",
        "input_var[\"Midas\"] = \"data_in\"\n",
        "input_var[\"DenseNet\"] = \"input_data\"\n",
        "input_var[\"CNN\"] = \"rst\"\n",
        "input_var[\"pool\"] = \"in_data\"\n",
        "input_var[\"SoftMax\"] = \"Datain\"\n",
        "input_var[\"Adder\"] = \"\"\n",
        "output_var = {}\n",
        "output_var[\"SoftMax\"] = \"Dataout\"\n",
        "output_var[\"Relu\"] = \"dout_relu\"\n",
        "output_var[\"fc\"] = \"output_data\"\n",
        "output_var[\"Conv\"] = \"output_data\"\n",
        "output_var[\"Resnet\"] = \"data_out\"\n",
        "output_var[\"sigmoid\"] = \"out\"\n",
        "output_var[\"tanH\"] = \"tanh\"\n",
        "output_var[\"Midas\"] = \"data_out\"\n",
        "output_var[\"DenseNet\"] = \"output_data\"\n",
        "output_var[\"CNN\"] = \"numberOfTimes_PatterDetected\"\n",
        "output_var[\"pool\"] = \"out_data\"\n",
        "output_var[\"Adder\"] = \"result_vector\""
      ],
      "metadata": {
        "id": "vYxU3iYEGdDK"
      },
      "execution_count": null,
      "outputs": []
    },
    {
      "cell_type": "code",
      "source": [
        "params = {\"vgg16\" : {\"parameter WIDTH\" : [224, 224, 112, 112, 56, 56, 56, 28, 28, 28, 14, 14, 14],\n",
        "                     \"parameter HEIGHT\" : [224, 224, 112, 112, 56, 56, 56, 28, 28, 28, 14, 14, 14],\n",
        "                     \"parameter CHANNELS\" : [3, 64, 64, 128, 128, 256, 256, 256, 512, 512, 512, 512, 512],\n",
        "                     \"parameter FILTERS\" : [64, 64, 128, 128, 256, 256, 256, 512, 512, 512, 512, 512, 512],\n",
        "                     \"parameter KERNEL_SIZE\" : [3, 3, 3, 3, 3, 3, 3, 3, 3, 3, 3, 3, 3],\n",
        "                     \"parameter STRIDE\": [1, 1, 1, 1, 1, 1, 1, 1, 1, 1, 1, 1, 1],\n",
        "                     \"parameter PADDING\" : [1, 1, 1, 1, 1, 1, 1, 1, 1, 1, 1, 1, 1]},\n",
        "          \"alexnet\" : {\"parameter WIDTH\" : [227, 27, 13, 13, 13],\n",
        "                       \"parameter HEIGHT\" : [227, 27, 13, 13, 13],\n",
        "                       \"parameter CHANNELS\" : [3, 96, 256, 384, 384],\n",
        "                       \"parameter FILTERS\" : [96, 256, 384, 384, 256],\n",
        "                       \"parameter KERNEL_SIZE\" : [11, 5, 3, 3, 3],\n",
        "                       \"parameter STRIDE\" : [4, 1, 1, 1, 1],\n",
        "                       \"parameter PADDING\" : [0, 2, 1, 1, 1]},\n",
        "          \"resnet\" : {\"parameter WIDTH\" : [227, 56, 56, 56, 56, 56, 28, 28, 28, 28, 14, 14, 14, 14, 7, 7, 7],\n",
        "                      \"parameter HEIGHT\": [227, 56, 56, 56, 56, 56, 28, 28, 28, 28, 14, 14, 14, 14, 7, 7, 7],\n",
        "                      \"parameter CHANNELS\" : [3, 64, 64, 64, 64, 64, 128, 128, 128, 128, 256, 256, 256, 256, 512, 512, 512],\n",
        "                      \"parameter FILTERS\" : [64, 64, 64, 64, 64, 128, 128, 128, 128, 256, 256, 256, 256, 512, 512, 512, 512],\n",
        "                      \"parameter KERNEL_SIZE\": [7, 3, 3, 3, 3, 3, 3, 3, 3, 3, 3, 3, 3, 3, 3, 3, 3],\n",
        "                      \"parameter STRIDE\" : [2, 1, 1, 1, 1, 2, 1, 1, 1, 2, 1, 1, 1, 2, 1, 1, 1],\n",
        "                      \"parameter PADDING\" : [3, 1, 1, 1, 1, 1, 1, 1, 1, 1, 1, 1, 1, 1, 1, 1, 1]}\n",
        "          }"
      ],
      "metadata": {
        "id": "SR1b6zEyM_Ka"
      },
      "execution_count": null,
      "outputs": []
    },
    {
      "cell_type": "code",
      "source": [
        "params_index = {\"vgg16\" : {\"parameter WIDTH\" : 0,\n",
        "                           \"parameter HEIGHT\" : 0,\n",
        "                           \"parameter CHANNELS\" : 0,\n",
        "                           \"parameter FILTERS\" : 0,\n",
        "                           \"parameter KERNEL_SIZE\" : 0,\n",
        "                           \"parameter STRIDE\" : 0,\n",
        "                           \"parameter PADDING\" : 0},\n",
        "                \"alexnet\" : {\"parameter WIDTH\" : 0,\n",
        "                           \"parameter HEIGHT\" : 0,\n",
        "                           \"parameter CHANNELS\" : 0,\n",
        "                           \"parameter FILTERS\" : 0,\n",
        "                           \"parameter KERNEL_SIZE\" : 0,\n",
        "                           \"parameter STRIDE\" : 0,\n",
        "                           \"parameter PADDING\" : 0},\n",
        "                \"resnet\" : {\"parameter WIDTH\" : 0,\n",
        "                           \"parameter HEIGHT\" : 0,\n",
        "                           \"parameter CHANNELS\" : 0,\n",
        "                           \"parameter FILTERS\" : 0,\n",
        "                           \"parameter KERNEL_SIZE\" : 0,\n",
        "                           \"parameter STRIDE\" : 0,\n",
        "                           \"parameter PADDING\" : 0}\n",
        "                }\n",
        "temp = 0"
      ],
      "metadata": {
        "id": "uzGMyJAjGgcy"
      },
      "execution_count": null,
      "outputs": []
    },
    {
      "cell_type": "code",
      "source": [
        "def change(lines, model): # Parameters change\n",
        "   newCode = []\n",
        "   for j in range(len(lines)):\n",
        "    paramFound = False\n",
        "    for key in params[model]:\n",
        "       value = params[model][key]\n",
        "       if(key in lines[j]):\n",
        "          paramFound = True\n",
        "          s = ''\n",
        "          for k in range(len(lines[j])):\n",
        "            s+=lines[j][k]\n",
        "            if(lines[j][k] == \"=\"):\n",
        "              s += \" \"\n",
        "              index = params_index[model][key]\n",
        "              s+=str(value[index])\n",
        "              s += \";\\n\"\n",
        "              params_index[model][key] = index + 1\n",
        "              break\n",
        "          newCode.append(s)\n",
        "    if (paramFound == False):\n",
        "      newCode.append(lines[j])\n",
        "   return newCode"
      ],
      "metadata": {
        "id": "4TqTYfOCNsaj"
      },
      "execution_count": null,
      "outputs": []
    },
    {
      "cell_type": "code",
      "source": [
        "finalCode = []"
      ],
      "metadata": {
        "id": "NaZ-qEGRH0lF"
      },
      "execution_count": null,
      "outputs": []
    },
    {
      "cell_type": "code",
      "source": [
        "skip = True\n",
        "previousOutput = \"None\"\n",
        "idx_module = 1\n",
        "model = \"vgg16\"\n",
        "modelPath = model + \".txt\"\n",
        "prev_non_linear = None\n",
        "with open(modelPath, 'r') as file:\n",
        "\n",
        "    for line in file:\n",
        "      line = line.strip()\n",
        "      if (len(line) == 0 or skip):\n",
        "        skip = False\n",
        "        continue\n",
        "\n",
        "      save = False\n",
        "      layer = \"\"\n",
        "      secondString = \"\"\n",
        "      cntComma = 0\n",
        "      for chr in line:\n",
        "        if (chr == ','):\n",
        "          if (cntComma == 1):\n",
        "            break\n",
        "          else:\n",
        "            cntComma = 1\n",
        "            continue\n",
        "        if (cntComma == 0):\n",
        "          layer = layer + chr\n",
        "        else:\n",
        "          secondString = secondString + chr\n",
        "\n",
        "      if (secondString == \" Save\"):\n",
        "        save = True\n",
        "\n",
        "      if (layer == \"Dropout\"):\n",
        "        continue\n",
        "\n",
        "      if (layer == \"Adder\"):\n",
        "        lines, previousOutput = solve(layer, previousOutput, idx_module, True, prev_non_linear)\n",
        "      else:\n",
        "        lines, previousOutput = solve(layer, previousOutput, idx_module)\n",
        "\n",
        "      if (save):\n",
        "        prev_non_linear = previousOutput\n",
        "\n",
        "      idx_module = idx_module + 1\n",
        "\n",
        "      if (layer == \"Conv\"):\n",
        "        lines = change(lines, model)\n",
        "\n",
        "      finalCode.append(lines)"
      ],
      "metadata": {
        "id": "wOqSpGBZENG9"
      },
      "execution_count": null,
      "outputs": []
    },
    {
      "cell_type": "code",
      "source": [
        "first = \"module top(input inp, input clk, input rst, output out);\\n\"\n",
        "space = \"    \"\n",
        "second = space + \"wire output_data;\\n\"\n",
        "third = space + \"wire dout_relu;\\n\"\n",
        "fourth = space + \"wire Start;\\n\"\n",
        "fifth = space + \"wire [2:0] N;\\n\""
      ],
      "metadata": {
        "id": "53AUCULMOplf"
      },
      "execution_count": null,
      "outputs": []
    },
    {
      "cell_type": "code",
      "source": [
        "with open('output_file.txt', 'w') as output_file:\n",
        "  output_file.write(first)\n",
        "  output_file.write(second)\n",
        "  output_file.write(third)\n",
        "  output_file.write(fourth)\n",
        "  output_file.write(fifth)\n",
        "\n",
        "  for i in range(len(initialDeclaration)):\n",
        "    string = initialDeclaration[i][0] + \" uut\"\n",
        "    if (i):\n",
        "      string = string + str(i)\n",
        "\n",
        "    layer = initialDeclaration[i][0][:4]\n",
        "\n",
        "    if (layer == \"vect\"):\n",
        "      string = space + string + \"(.input_data1(\" + initialDeclaration[i][1] +\").input_data2(\" + initialDeclaration[i][2] + \"), .output_data(\" + initialDeclaration[i][3] + \"));\\n\"\n",
        "    else:\n",
        "      if (layer == \"Conv\"):\n",
        "        string = string + \"(.clk(clk),.rst(rst),.input_data(\"\n",
        "      else:\n",
        "        string = string + \"(.input_data(\"\n",
        "\n",
        "      string = space + string + initialDeclaration[i][1] + \"), .output_data(\" + initialDeclaration[i][2] + \"));\\n\"\n",
        "\n",
        "    output_file.write(string)\n",
        "\n",
        "  output_file.write(\"endmodule\\n\")\n",
        "\n",
        "  for i in finalCode:\n",
        "    for j in i:\n",
        "      output_file.write(j)"
      ],
      "metadata": {
        "id": "t2fEPcvxLwc9"
      },
      "execution_count": null,
      "outputs": []
    },
    {
      "cell_type": "code",
      "source": [
        "for i in initialDeclaration:\n",
        "  print(i)"
      ],
      "metadata": {
        "colab": {
          "base_uri": "https://localhost:8080/"
        },
        "id": "6wgAvW-3frZM",
        "outputId": "2f0db101-5193-46e8-99cb-d3a91bfbe2df"
      },
      "execution_count": null,
      "outputs": [
        {
          "output_type": "stream",
          "name": "stdout",
          "text": [
            "['Conv2D_1', 'input_data', 'output_data_1']\n",
            "['relu_2', 'output_data_1', 'dout_relu_2']\n",
            "['Conv2D_3', 'dout_relu_2', 'output_data_3']\n",
            "['relu_4', 'output_data_3', 'dout_relu_4']\n",
            "['max_pooling_3d_5', 'dout_relu_4', 'out_data_5']\n",
            "['Conv2D_6', 'out_data_5', 'output_data_6']\n",
            "['relu_7', 'output_data_6', 'dout_relu_7']\n",
            "['Conv2D_8', 'dout_relu_7', 'output_data_8']\n",
            "['relu_9', 'output_data_8', 'dout_relu_9']\n",
            "['max_pooling_3d_10', 'dout_relu_9', 'out_data_10']\n",
            "['Conv2D_11', 'out_data_10', 'output_data_11']\n",
            "['relu_12', 'output_data_11', 'dout_relu_12']\n",
            "['Conv2D_13', 'dout_relu_12', 'output_data_13']\n",
            "['relu_14', 'output_data_13', 'dout_relu_14']\n",
            "['Conv2D_15', 'dout_relu_14', 'output_data_15']\n",
            "['relu_16', 'output_data_15', 'dout_relu_16']\n",
            "['max_pooling_3d_17', 'dout_relu_16', 'out_data_17']\n",
            "['Conv2D_18', 'out_data_17', 'output_data_18']\n",
            "['relu_19', 'output_data_18', 'dout_relu_19']\n",
            "['Conv2D_20', 'dout_relu_19', 'output_data_20']\n",
            "['relu_21', 'output_data_20', 'dout_relu_21']\n",
            "['Conv2D_22', 'dout_relu_21', 'output_data_22']\n",
            "['relu_23', 'output_data_22', 'dout_relu_23']\n",
            "['max_pooling_3d_24', 'dout_relu_23', 'out_data_24']\n",
            "['Conv2D_25', 'out_data_24', 'output_data_25']\n",
            "['relu_26', 'output_data_25', 'dout_relu_26']\n",
            "['Conv2D_27', 'dout_relu_26', 'output_data_27']\n",
            "['relu_28', 'output_data_27', 'dout_relu_28']\n",
            "['Conv2D_29', 'dout_relu_28', 'output_data_29']\n",
            "['relu_30', 'output_data_29', 'dout_relu_30']\n",
            "['max_pooling_3d_31', 'dout_relu_30', 'out_data_31']\n",
            "['FullyConnectedLayer_32', 'out_data_31', 'output_data_32']\n",
            "['relu_33', 'output_data_32', 'dout_relu_33']\n",
            "['FullyConnectedLayer_34', 'dout_relu_33', 'output_data_34']\n",
            "['relu_35', 'output_data_34', 'dout_relu_35']\n",
            "['FullyConnectedLayer_36', 'dout_relu_35', 'output_data_36']\n",
            "['softmax _37', 'output_data_36', 'Dataout_37']\n"
          ]
        }
      ]
    }
  ]
}